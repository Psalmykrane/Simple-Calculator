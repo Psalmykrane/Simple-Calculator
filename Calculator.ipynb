{
 "cells": [
  {
   "cell_type": "markdown",
   "id": "36124f54",
   "metadata": {},
   "source": [
    "# Simple Calculator"
   ]
  },
  {
   "cell_type": "code",
   "execution_count": 14,
   "id": "54f06539",
   "metadata": {},
   "outputs": [
    {
     "name": "stdout",
     "output_type": "stream",
     "text": [
      "Enter first number --> 56\n",
      "Enter second number --> 66\n",
      "\n",
      "Enter 1 to add \n",
      "Enter 2 to subtract \n",
      "Enter 3 to multiply \n",
      "Enter 4 to divide \n",
      "--> 4\n",
      "0.8484848484848485\n"
     ]
    }
   ],
   "source": [
    "num1 = int(input('Enter first number --> '))\n",
    "num2 = int(input('Enter second number --> '))\n",
    "\n",
    "req = input('\\nEnter 1 to add \\nEnter 2 to subtract \\nEnter 3 to multiply \\nEnter 4 to divide \\n--> ')\n",
    "\n",
    "if req == '1':\n",
    "    print(num1 + num2)\n",
    "elif req == '2':\n",
    "    print(num1 - num2)\n",
    "elif req == '3':\n",
    "    print(num1 * num2)\n",
    "elif req == '4':\n",
    "    print(num1 / num2)\n",
    "else:\n",
    "    print('Invalid request!')"
   ]
  },
  {
   "cell_type": "code",
   "execution_count": null,
   "id": "5ffd1b2f",
   "metadata": {},
   "outputs": [],
   "source": []
  }
 ],
 "metadata": {
  "kernelspec": {
   "display_name": "Python 3 (ipykernel)",
   "language": "python",
   "name": "python3"
  },
  "language_info": {
   "codemirror_mode": {
    "name": "ipython",
    "version": 3
   },
   "file_extension": ".py",
   "mimetype": "text/x-python",
   "name": "python",
   "nbconvert_exporter": "python",
   "pygments_lexer": "ipython3",
   "version": "3.11.5"
  }
 },
 "nbformat": 4,
 "nbformat_minor": 5
}
